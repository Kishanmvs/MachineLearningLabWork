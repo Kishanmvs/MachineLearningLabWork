{
  "cells": [
    {
      "cell_type": "markdown",
      "metadata": {
        "id": "view-in-github",
        "colab_type": "text"
      },
      "source": [
        "<a href=\"https://colab.research.google.com/github/Kishanmvs/MachineLearningLabWork/blob/main/Lab1-K%20Folds.ipynb\" target=\"_parent\"><img src=\"https://colab.research.google.com/assets/colab-badge.svg\" alt=\"Open In Colab\"/></a>"
      ]
    },
    {
      "cell_type": "markdown",
      "source": [
        "## **Wine Quality Classification**"
      ],
      "metadata": {
        "id": "9UDvIPh-aHyH"
      }
    },
    {
      "cell_type": "markdown",
      "source": [
        "**Data Loading and Inspection**\n"
      ],
      "metadata": {
        "id": "-_TerJsXXoaQ"
      }
    },
    {
      "cell_type": "code",
      "source": [
        "import pandas as pd\n",
        "\n",
        "# Load the dataset\n",
        "data = pd.read_csv('winequality-red.csv', sep=';')\n",
        "\n",
        "# Display first 5 rows to check the data\n",
        "print(data.head())"
      ],
      "metadata": {
        "id": "a9SqllQhQLAb",
        "outputId": "138bb9d0-ab00-4a00-a126-023eeec704e7",
        "colab": {
          "base_uri": "https://localhost:8080/"
        }
      },
      "execution_count": 14,
      "outputs": [
        {
          "output_type": "stream",
          "name": "stdout",
          "text": [
            "   fixed acidity  volatile acidity  citric acid  residual sugar  chlorides  \\\n",
            "0            7.4              0.70         0.00             1.9      0.076   \n",
            "1            7.8              0.88         0.00             2.6      0.098   \n",
            "2            7.8              0.76         0.04             2.3      0.092   \n",
            "3           11.2              0.28         0.56             1.9      0.075   \n",
            "4            7.4              0.70         0.00             1.9      0.076   \n",
            "\n",
            "   free sulfur dioxide  total sulfur dioxide  density    pH  sulphates  \\\n",
            "0                 11.0                  34.0   0.9978  3.51       0.56   \n",
            "1                 25.0                  67.0   0.9968  3.20       0.68   \n",
            "2                 15.0                  54.0   0.9970  3.26       0.65   \n",
            "3                 17.0                  60.0   0.9980  3.16       0.58   \n",
            "4                 11.0                  34.0   0.9978  3.51       0.56   \n",
            "\n",
            "   alcohol  quality  \n",
            "0      9.4        5  \n",
            "1      9.8        5  \n",
            "2      9.8        5  \n",
            "3      9.8        6  \n",
            "4      9.4        5  \n"
          ]
        }
      ]
    },
    {
      "cell_type": "markdown",
      "source": [
        "**Simple Train-Test Split & Logistic Regression Training**\n",
        "\n",
        "**What was done:**\n",
        "\n",
        "Converted the wine quality scores into a binary classification problem:\n",
        "\n",
        "1 = Good quality (quality ≥ 7)\n",
        "\n",
        "0 = Not good (quality < 7)\n",
        "\n",
        "Split dataset into training (80%) and testing (20%) sets using stratification to keep class balance.\n",
        "\n",
        "Trained a Logistic Regression model on training data.\n",
        "\n",
        "Evaluated performance on test data using accuracy and classification report.\n",
        "\n",
        "**Type of training:**\n",
        "\n",
        "Supervised learning with train-test split validation.\n",
        "\n",
        "**Algorithm:**\n",
        "Logistic Regression (linear classification model).\n",
        "\n"
      ],
      "metadata": {
        "id": "CpcOf3GSeDk1"
      }
    },
    {
      "cell_type": "code",
      "source": [
        "from sklearn.model_selection import train_test_split\n",
        "from sklearn.linear_model import LogisticRegression\n",
        "from sklearn.metrics import classification_report, accuracy_score\n",
        "\n",
        "# Define features and target\n",
        "X = data.drop('quality', axis=1)\n",
        "y = data['quality']\n",
        "\n",
        "# For simplicity, convert quality scores into binary classes: good (>=7) and not good (<7)\n",
        "y_binary = (y >= 7).astype(int)\n",
        "\n",
        "# Split into train and test sets (80% train, 20% test)\n",
        "X_train, X_test, y_train, y_test = train_test_split(X, y_binary, test_size=0.2, random_state=42, stratify=y_binary)\n",
        "\n",
        "# Initialize Logistic Regression model\n",
        "model = LogisticRegression(max_iter=1000, random_state=42)\n",
        "\n",
        "# Train the model\n",
        "model.fit(X_train, y_train)\n",
        "\n",
        "# Predict on test set\n",
        "y_pred = model.predict(X_test)\n",
        "\n",
        "# Evaluate\n",
        "print(\"Accuracy:\", accuracy_score(y_test, y_pred))\n",
        "print(\"\\nClassification Report:\\n\", classification_report(y_test, y_pred))"
      ],
      "metadata": {
        "id": "37SyXtILcfxO",
        "outputId": "ebb20909-85e0-4eb8-b867-5127c6fbe70b",
        "colab": {
          "base_uri": "https://localhost:8080/"
        }
      },
      "execution_count": 15,
      "outputs": [
        {
          "output_type": "stream",
          "name": "stdout",
          "text": [
            "Accuracy: 0.89375\n",
            "\n",
            "Classification Report:\n",
            "               precision    recall  f1-score   support\n",
            "\n",
            "           0       0.90      0.98      0.94       277\n",
            "           1       0.74      0.33      0.45        43\n",
            "\n",
            "    accuracy                           0.89       320\n",
            "   macro avg       0.82      0.65      0.70       320\n",
            "weighted avg       0.88      0.89      0.88       320\n",
            "\n"
          ]
        }
      ]
    },
    {
      "cell_type": "markdown",
      "source": [
        "**Train-Validation-Test Split & Logistic Regression**\n",
        "\n",
        "**What was done:**\n",
        "\n",
        "Split dataset into three parts:\n",
        "\n",
        "60% training\n",
        "\n",
        "20% validation\n",
        "\n",
        "20% testing\n",
        "\n",
        "The split is done by first separating test (20%) and then splitting remaining 80% into train and validation (75% train, 25% val).\n",
        "\n",
        "Trained Logistic Regression on training set.\n",
        "\n",
        "Evaluated on validation set to tune/monitor performance before final evaluation.\n",
        "\n",
        "Tested final model on test set after tuning.\n",
        "\n",
        "**Type of training:**\n",
        "\n",
        "Supervised learning with train-validation-test split for model tuning and unbiased final evaluation.\n",
        "\n",
        "**Algorithm:**\n",
        "Logistic Regression."
      ],
      "metadata": {
        "id": "7xiYTooteMi9"
      }
    },
    {
      "cell_type": "code",
      "source": [
        "# First, split into 80% (train + val) and 20% test\n",
        "X_train_val, X_test, y_train_val, y_test = train_test_split(\n",
        "    X, y_binary, test_size=0.2, random_state=42, stratify=y_binary)\n",
        "\n",
        "# Then, split train_val into 75% train and 25% val (which gives 60% train, 20% val of total)\n",
        "X_train, X_val, y_train, y_val = train_test_split(\n",
        "    X_train_val, y_train_val, test_size=0.25, random_state=42, stratify=y_train_val)\n",
        "\n",
        "# Initialize Logistic Regression model\n",
        "model = LogisticRegression(max_iter=1000, random_state=42)\n",
        "\n",
        "# Train on training set\n",
        "model.fit(X_train, y_train)\n",
        "\n",
        "# Evaluate on validation set\n",
        "y_val_pred = model.predict(X_val)\n",
        "print(\"Validation Accuracy:\", accuracy_score(y_val, y_val_pred))\n",
        "print(\"\\nValidation Classification Report:\\n\", classification_report(y_val, y_val_pred))\n",
        "\n",
        "# After (optional) tuning, evaluate on test set\n",
        "y_test_pred = model.predict(X_test)\n",
        "print(\"Test Accuracy:\", accuracy_score(y_test, y_test_pred))\n",
        "print(\"\\nTest Classification Report:\\n\", classification_report(y_test, y_test_pred))"
      ],
      "metadata": {
        "id": "wY11tejgcytl",
        "outputId": "75afacda-49f3-4eb5-8183-d9b9b56d3c13",
        "colab": {
          "base_uri": "https://localhost:8080/"
        }
      },
      "execution_count": 16,
      "outputs": [
        {
          "output_type": "stream",
          "name": "stdout",
          "text": [
            "Validation Accuracy: 0.859375\n",
            "\n",
            "Validation Classification Report:\n",
            "               precision    recall  f1-score   support\n",
            "\n",
            "           0       0.88      0.96      0.92       276\n",
            "           1       0.47      0.20      0.29        44\n",
            "\n",
            "    accuracy                           0.86       320\n",
            "   macro avg       0.68      0.58      0.60       320\n",
            "weighted avg       0.83      0.86      0.83       320\n",
            "\n",
            "Test Accuracy: 0.8875\n",
            "\n",
            "Test Classification Report:\n",
            "               precision    recall  f1-score   support\n",
            "\n",
            "           0       0.90      0.98      0.94       277\n",
            "           1       0.71      0.28      0.40        43\n",
            "\n",
            "    accuracy                           0.89       320\n",
            "   macro avg       0.80      0.63      0.67       320\n",
            "weighted avg       0.87      0.89      0.87       320\n",
            "\n"
          ]
        }
      ]
    },
    {
      "cell_type": "markdown",
      "source": [
        "**Stratified K-Fold Cross-Validation with Logistic Regression**\n",
        "\n",
        "**What was done:**\n",
        "\n",
        "Used Stratified K-Fold Cross-Validation (5 folds):\n",
        "\n",
        "Dataset split into 5 folds, maintaining class balance.\n",
        "\n",
        "Model trained on 4 folds, tested on 1 fold.\n",
        "\n",
        "Repeated for all folds.\n",
        "\n",
        "Calculated accuracy for each fold.\n",
        "\n",
        "Reported mean and standard deviation of accuracies.\n",
        "\n",
        "**Type of training:**\n",
        "\n",
        "Supervised learning with cross-validation for robust, unbiased performance estimation.\n",
        "\n",
        "**Algorithm:**\n",
        "Logistic Regression."
      ],
      "metadata": {
        "id": "y_nBsgeqeRg1"
      }
    },
    {
      "cell_type": "code",
      "source": [
        "from sklearn.model_selection import cross_val_score, StratifiedKFold\n",
        "\n",
        "# Initialize Logistic Regression model\n",
        "model = LogisticRegression(max_iter=1000, random_state=42)\n",
        "\n",
        "# Define stratified K-Fold (to maintain class balance)\n",
        "kf = StratifiedKFold(n_splits=5, shuffle=True, random_state=42)\n",
        "\n",
        "# Perform cross-validation with accuracy as scoring metric\n",
        "cv_scores = cross_val_score(model, X, y_binary, cv=kf, scoring='accuracy')\n",
        "\n",
        "print(\"Cross-validation accuracies for each fold:\", cv_scores)\n",
        "print(\"Mean CV accuracy:\", cv_scores.mean())\n",
        "print(\"Standard deviation of CV accuracy:\", cv_scores.std())"
      ],
      "metadata": {
        "id": "i4q0BwgUdD3d",
        "outputId": "3a10cacb-5f2d-417c-f673-6dd980889855",
        "colab": {
          "base_uri": "https://localhost:8080/"
        }
      },
      "execution_count": 18,
      "outputs": [
        {
          "output_type": "stream",
          "name": "stdout",
          "text": [
            "Cross-validation accuracies for each fold: [0.875      0.88125    0.9        0.85625    0.89341693]\n",
            "Mean CV accuracy: 0.8811833855799373\n",
            "Standard deviation of CV accuracy: 0.015255405252639943\n"
          ]
        }
      ]
    }
  ],
  "metadata": {
    "colab": {
      "name": "Welcome To Colab",
      "provenance": [],
      "include_colab_link": true
    },
    "kernelspec": {
      "display_name": "Python 3",
      "name": "python3"
    }
  },
  "nbformat": 4,
  "nbformat_minor": 0
}